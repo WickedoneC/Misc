{
 "cells": [
  {
   "cell_type": "markdown",
   "metadata": {},
   "source": [
    "#### Given an array of integers find a sequence with the largest sum."
   ]
  },
  {
   "cell_type": "code",
   "execution_count": 32,
   "metadata": {},
   "outputs": [],
   "source": [
    "array = [1, -1, 5, 3, -7, 4, 5, 6, -100, 4]\n",
    "array2 = [1, 100, 4, 15, 9, 30]\n",
    "array3 = [1, 100, 4, 15, 9, 30, -1]"
   ]
  },
  {
   "cell_type": "code",
   "execution_count": 39,
   "metadata": {},
   "outputs": [],
   "source": [
    "def largestSubarraySum(array):\n",
    "    sum_list = []\n",
    "    for i in range(len(array)):\n",
    "        for z in range(1, len(array)+1):\n",
    "            sum_list.append(array[i] + sum(array[i+1:z]))\n",
    "            \n",
    "    if max(sum_list) >= 0:\n",
    "        return max(sum_list)\n",
    "    \n",
    "    if max(sum_list) < 0:\n",
    "        return 0\n",
    "            "
   ]
  },
  {
   "cell_type": "code",
   "execution_count": 43,
   "metadata": {
    "scrolled": true
   },
   "outputs": [
    {
     "name": "stdout",
     "output_type": "stream",
     "text": [
      "16\n",
      "159\n",
      "159\n"
     ]
    }
   ],
   "source": [
    "array = [1, -1, 5, 3, -7, 4, 5, 6, -100, 4]\n",
    "array2 = [1, 100, 4, 15, 9, 30]\n",
    "array3 = [1, 100, 4, 15, 9, 30, -1]\n",
    "\n",
    "print(largestSubarraySum(array))\n",
    "print(largestSubarraySum(array2))\n",
    "print(largestSubarraySum(array3))"
   ]
  },
  {
   "cell_type": "code",
   "execution_count": 44,
   "metadata": {},
   "outputs": [
    {
     "data": {
      "text/plain": [
       "7"
      ]
     },
     "execution_count": 44,
     "metadata": {},
     "output_type": "execute_result"
    }
   ],
   "source": [
    "test = [-2, -3, 4, -1, -2, 1, 5, -3]\n",
    "largestSubarraySum(test)"
   ]
  },
  {
   "cell_type": "code",
   "execution_count": 45,
   "metadata": {},
   "outputs": [
    {
     "data": {
      "text/plain": [
       "0"
      ]
     },
     "execution_count": 45,
     "metadata": {},
     "output_type": "execute_result"
    }
   ],
   "source": [
    "test = [-1, -1, -5, -3, -7, -4, -5, -6, -100, -4]\n",
    "largestSubarraySum(test)"
   ]
  },
  {
   "cell_type": "markdown",
   "metadata": {},
   "source": [
    "this is a brute force approach\n",
    "having two for loops can make it time expensive, especially as the lists and integers grow large\n",
    "the fact that you are iterating forward through the list makes me think this can be solved recursively"
   ]
  },
  {
   "cell_type": "code",
   "execution_count": null,
   "metadata": {},
   "outputs": [],
   "source": []
  }
 ],
 "metadata": {
  "kernelspec": {
   "display_name": "Python 3",
   "language": "python",
   "name": "python3"
  },
  "language_info": {
   "codemirror_mode": {
    "name": "ipython",
    "version": 3
   },
   "file_extension": ".py",
   "mimetype": "text/x-python",
   "name": "python",
   "nbconvert_exporter": "python",
   "pygments_lexer": "ipython3",
   "version": "3.7.4"
  }
 },
 "nbformat": 4,
 "nbformat_minor": 2
}

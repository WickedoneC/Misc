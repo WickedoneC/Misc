{
 "cells": [
  {
   "cell_type": "markdown",
   "metadata": {},
   "source": [
    "## Data Question 1"
   ]
  },
  {
   "cell_type": "markdown",
   "metadata": {},
   "source": [
    "### How many distinct phone numbers had at least 2 sim swap event changes in this data?"
   ]
  },
  {
   "cell_type": "markdown",
   "metadata": {},
   "source": [
    "**39 distinct phone numbers had at least 2 sim swap events**"
   ]
  },
  {
   "cell_type": "markdown",
   "metadata": {},
   "source": [
    "### How many records had at least 3 change events?"
   ]
  },
  {
   "cell_type": "markdown",
   "metadata": {},
   "source": [
    "**322 records had at least 3 change events**"
   ]
  },
  {
   "cell_type": "markdown",
   "metadata": {},
   "source": [
    "### Questions about the data"
   ]
  },
  {
   "cell_type": "markdown",
   "metadata": {},
   "source": [
    "* How do we handle the NaNs in the data? What do NaNs mean in this situation? I dropped them above, but this loses a quarter of the data, so it is not an ideal solution.\n",
    "\n",
    "* Should phone numbers be a certain length? If numbers are longer/shorter than a normal number, does that indicate suspicious activity?\n",
    "\n",
    "* Can each EventType be considered a change event? This is the assumption I made to answer the second question.\n",
    "\n",
    "* Did we collect this data ourselves or did a client provide it - asked in the interview -> from client\n",
    "\n",
    "* If collected from a client, can we trust it to be accurate?\n",
    "\n",
    "* What type of insights does the client hope to gain from the data / answers to the questions? Most frequent phone numbers, average event count, fraud, etc?\n",
    "\n",
    "* Should dates have been a factor in counting SimSwap events or number of events per record?\n",
    "\n",
    "* Can there only be one of each Event Type per record?"
   ]
  },
  {
   "cell_type": "markdown",
   "metadata": {},
   "source": [
    "  "
   ]
  },
  {
   "cell_type": "markdown",
   "metadata": {},
   "source": [
    "### Importing and Exploring"
   ]
  },
  {
   "cell_type": "code",
   "execution_count": 1,
   "metadata": {},
   "outputs": [],
   "source": [
    "import pandas as pd\n",
    "import ast"
   ]
  },
  {
   "cell_type": "code",
   "execution_count": 2,
   "metadata": {},
   "outputs": [],
   "source": [
    "df = pd.read_csv('dataquestion1.csv')"
   ]
  },
  {
   "cell_type": "code",
   "execution_count": 3,
   "metadata": {},
   "outputs": [
    {
     "data": {
      "text/html": [
       "<div>\n",
       "<style scoped>\n",
       "    .dataframe tbody tr th:only-of-type {\n",
       "        vertical-align: middle;\n",
       "    }\n",
       "\n",
       "    .dataframe tbody tr th {\n",
       "        vertical-align: top;\n",
       "    }\n",
       "\n",
       "    .dataframe thead th {\n",
       "        text-align: right;\n",
       "    }\n",
       "</style>\n",
       "<table border=\"1\" class=\"dataframe\">\n",
       "  <thead>\n",
       "    <tr style=\"text-align: right;\">\n",
       "      <th></th>\n",
       "      <th>Events</th>\n",
       "      <th>phoneNumber</th>\n",
       "    </tr>\n",
       "  </thead>\n",
       "  <tbody>\n",
       "    <tr>\n",
       "      <th>0</th>\n",
       "      <td>[{\"EventType\":\"Ported\",\"LastChangedDate\":\"2011...</td>\n",
       "      <td>61011011141</td>\n",
       "    </tr>\n",
       "    <tr>\n",
       "      <th>1</th>\n",
       "      <td>[{\"EventType\":\"Ported\",\"LastChangedDate\":\"2016...</td>\n",
       "      <td>61011051114</td>\n",
       "    </tr>\n",
       "    <tr>\n",
       "      <th>2</th>\n",
       "      <td>[{\"EventType\":\"Ported\",\"LastChangedDate\":\"2019...</td>\n",
       "      <td>61011051561</td>\n",
       "    </tr>\n",
       "    <tr>\n",
       "      <th>3</th>\n",
       "      <td>[{\"EventType\":\"DeviceChange\",\"LastChangedDate\"...</td>\n",
       "      <td>61011106044</td>\n",
       "    </tr>\n",
       "    <tr>\n",
       "      <th>4</th>\n",
       "      <td>NaN</td>\n",
       "      <td>61011111104</td>\n",
       "    </tr>\n",
       "  </tbody>\n",
       "</table>\n",
       "</div>"
      ],
      "text/plain": [
       "                                              Events  phoneNumber\n",
       "0  [{\"EventType\":\"Ported\",\"LastChangedDate\":\"2011...  61011011141\n",
       "1  [{\"EventType\":\"Ported\",\"LastChangedDate\":\"2016...  61011051114\n",
       "2  [{\"EventType\":\"Ported\",\"LastChangedDate\":\"2019...  61011051561\n",
       "3  [{\"EventType\":\"DeviceChange\",\"LastChangedDate\"...  61011106044\n",
       "4                                                NaN  61011111104"
      ]
     },
     "execution_count": 3,
     "metadata": {},
     "output_type": "execute_result"
    }
   ],
   "source": [
    "df.head()"
   ]
  },
  {
   "cell_type": "code",
   "execution_count": 4,
   "metadata": {},
   "outputs": [
    {
     "data": {
      "text/plain": [
       "(1073, 2)"
      ]
     },
     "execution_count": 4,
     "metadata": {},
     "output_type": "execute_result"
    }
   ],
   "source": [
    "df.shape"
   ]
  },
  {
   "cell_type": "code",
   "execution_count": 5,
   "metadata": {},
   "outputs": [
    {
     "data": {
      "text/html": [
       "<div>\n",
       "<style scoped>\n",
       "    .dataframe tbody tr th:only-of-type {\n",
       "        vertical-align: middle;\n",
       "    }\n",
       "\n",
       "    .dataframe tbody tr th {\n",
       "        vertical-align: top;\n",
       "    }\n",
       "\n",
       "    .dataframe thead th {\n",
       "        text-align: right;\n",
       "    }\n",
       "</style>\n",
       "<table border=\"1\" class=\"dataframe\">\n",
       "  <thead>\n",
       "    <tr style=\"text-align: right;\">\n",
       "      <th></th>\n",
       "      <th>Events</th>\n",
       "      <th>phoneNumber</th>\n",
       "    </tr>\n",
       "  </thead>\n",
       "  <tbody>\n",
       "    <tr>\n",
       "      <th>4</th>\n",
       "      <td>NaN</td>\n",
       "      <td>61011111104</td>\n",
       "    </tr>\n",
       "    <tr>\n",
       "      <th>6</th>\n",
       "      <td>NaN</td>\n",
       "      <td>61011111111</td>\n",
       "    </tr>\n",
       "    <tr>\n",
       "      <th>8</th>\n",
       "      <td>NaN</td>\n",
       "      <td>61011116416</td>\n",
       "    </tr>\n",
       "    <tr>\n",
       "      <th>11</th>\n",
       "      <td>NaN</td>\n",
       "      <td>61011141151</td>\n",
       "    </tr>\n",
       "    <tr>\n",
       "      <th>15</th>\n",
       "      <td>NaN</td>\n",
       "      <td>61011161113</td>\n",
       "    </tr>\n",
       "    <tr>\n",
       "      <th>...</th>\n",
       "      <td>...</td>\n",
       "      <td>...</td>\n",
       "    </tr>\n",
       "    <tr>\n",
       "      <th>1049</th>\n",
       "      <td>NaN</td>\n",
       "      <td>66614165010</td>\n",
       "    </tr>\n",
       "    <tr>\n",
       "      <th>1053</th>\n",
       "      <td>NaN</td>\n",
       "      <td>66616564161</td>\n",
       "    </tr>\n",
       "    <tr>\n",
       "      <th>1055</th>\n",
       "      <td>NaN</td>\n",
       "      <td>66631010111</td>\n",
       "    </tr>\n",
       "    <tr>\n",
       "      <th>1060</th>\n",
       "      <td>NaN</td>\n",
       "      <td>66633016461</td>\n",
       "    </tr>\n",
       "    <tr>\n",
       "      <th>1061</th>\n",
       "      <td>NaN</td>\n",
       "      <td>66633111114</td>\n",
       "    </tr>\n",
       "  </tbody>\n",
       "</table>\n",
       "<p>275 rows × 2 columns</p>\n",
       "</div>"
      ],
      "text/plain": [
       "     Events  phoneNumber\n",
       "4       NaN  61011111104\n",
       "6       NaN  61011111111\n",
       "8       NaN  61011116416\n",
       "11      NaN  61011141151\n",
       "15      NaN  61011161113\n",
       "...     ...          ...\n",
       "1049    NaN  66614165010\n",
       "1053    NaN  66616564161\n",
       "1055    NaN  66631010111\n",
       "1060    NaN  66633016461\n",
       "1061    NaN  66633111114\n",
       "\n",
       "[275 rows x 2 columns]"
      ]
     },
     "execution_count": 5,
     "metadata": {},
     "output_type": "execute_result"
    }
   ],
   "source": [
    "df.isna()\n",
    "df[df.isna().any(axis=1)]"
   ]
  },
  {
   "cell_type": "code",
   "execution_count": 6,
   "metadata": {},
   "outputs": [
    {
     "data": {
      "text/plain": [
       "0.25629077353215285"
      ]
     },
     "execution_count": 6,
     "metadata": {},
     "output_type": "execute_result"
    }
   ],
   "source": [
    "275 / 1073"
   ]
  },
  {
   "cell_type": "code",
   "execution_count": 7,
   "metadata": {},
   "outputs": [
    {
     "data": {
      "text/plain": [
       "61151106546    11\n",
       "63405641406     5\n",
       "64541161444     5\n",
       "61043414351     5\n",
       "65601161110     4\n",
       "               ..\n",
       "66346136446     1\n",
       "64014410454     1\n",
       "66615665364     1\n",
       "64061416146     1\n",
       "63411611641     1\n",
       "Name: phoneNumber, Length: 970, dtype: int64"
      ]
     },
     "execution_count": 7,
     "metadata": {},
     "output_type": "execute_result"
    }
   ],
   "source": [
    "df['phoneNumber'].value_counts()"
   ]
  },
  {
   "cell_type": "code",
   "execution_count": 8,
   "metadata": {},
   "outputs": [
    {
     "data": {
      "text/html": [
       "<div>\n",
       "<style scoped>\n",
       "    .dataframe tbody tr th:only-of-type {\n",
       "        vertical-align: middle;\n",
       "    }\n",
       "\n",
       "    .dataframe tbody tr th {\n",
       "        vertical-align: top;\n",
       "    }\n",
       "\n",
       "    .dataframe thead th {\n",
       "        text-align: right;\n",
       "    }\n",
       "</style>\n",
       "<table border=\"1\" class=\"dataframe\">\n",
       "  <thead>\n",
       "    <tr style=\"text-align: right;\">\n",
       "      <th></th>\n",
       "      <th>Events</th>\n",
       "      <th>phoneNumber</th>\n",
       "    </tr>\n",
       "  </thead>\n",
       "  <tbody>\n",
       "  </tbody>\n",
       "</table>\n",
       "</div>"
      ],
      "text/plain": [
       "Empty DataFrame\n",
       "Columns: [Events, phoneNumber]\n",
       "Index: []"
      ]
     },
     "execution_count": 8,
     "metadata": {},
     "output_type": "execute_result"
    }
   ],
   "source": [
    "# dropping NaNs, comments in the Questions section\n",
    "df = df.dropna()\n",
    "df[df.isna().any(axis=1)]"
   ]
  },
  {
   "cell_type": "code",
   "execution_count": 9,
   "metadata": {},
   "outputs": [
    {
     "data": {
      "text/html": [
       "<div>\n",
       "<style scoped>\n",
       "    .dataframe tbody tr th:only-of-type {\n",
       "        vertical-align: middle;\n",
       "    }\n",
       "\n",
       "    .dataframe tbody tr th {\n",
       "        vertical-align: top;\n",
       "    }\n",
       "\n",
       "    .dataframe thead th {\n",
       "        text-align: right;\n",
       "    }\n",
       "</style>\n",
       "<table border=\"1\" class=\"dataframe\">\n",
       "  <thead>\n",
       "    <tr style=\"text-align: right;\">\n",
       "      <th></th>\n",
       "      <th>Events</th>\n",
       "      <th>phoneNumber</th>\n",
       "    </tr>\n",
       "  </thead>\n",
       "  <tbody>\n",
       "    <tr>\n",
       "      <th>0</th>\n",
       "      <td>[{\"EventType\":\"Ported\",\"LastChangedDate\":\"2011...</td>\n",
       "      <td>61011011141</td>\n",
       "    </tr>\n",
       "    <tr>\n",
       "      <th>1</th>\n",
       "      <td>[{\"EventType\":\"Ported\",\"LastChangedDate\":\"2016...</td>\n",
       "      <td>61011051114</td>\n",
       "    </tr>\n",
       "    <tr>\n",
       "      <th>2</th>\n",
       "      <td>[{\"EventType\":\"Ported\",\"LastChangedDate\":\"2019...</td>\n",
       "      <td>61011051561</td>\n",
       "    </tr>\n",
       "    <tr>\n",
       "      <th>3</th>\n",
       "      <td>[{\"EventType\":\"DeviceChange\",\"LastChangedDate\"...</td>\n",
       "      <td>61011106044</td>\n",
       "    </tr>\n",
       "    <tr>\n",
       "      <th>5</th>\n",
       "      <td>[{\"EventType\":\"MSISDNChange\",\"LastChangedDate\"...</td>\n",
       "      <td>61011111104</td>\n",
       "    </tr>\n",
       "  </tbody>\n",
       "</table>\n",
       "</div>"
      ],
      "text/plain": [
       "                                              Events  phoneNumber\n",
       "0  [{\"EventType\":\"Ported\",\"LastChangedDate\":\"2011...  61011011141\n",
       "1  [{\"EventType\":\"Ported\",\"LastChangedDate\":\"2016...  61011051114\n",
       "2  [{\"EventType\":\"Ported\",\"LastChangedDate\":\"2019...  61011051561\n",
       "3  [{\"EventType\":\"DeviceChange\",\"LastChangedDate\"...  61011106044\n",
       "5  [{\"EventType\":\"MSISDNChange\",\"LastChangedDate\"...  61011111104"
      ]
     },
     "execution_count": 9,
     "metadata": {},
     "output_type": "execute_result"
    }
   ],
   "source": [
    "df.head()"
   ]
  },
  {
   "cell_type": "code",
   "execution_count": 10,
   "metadata": {},
   "outputs": [
    {
     "data": {
      "text/plain": [
       "61151106546    11\n",
       "61043414351     5\n",
       "63405641406     5\n",
       "63164513105     3\n",
       "64631634141     3\n",
       "               ..\n",
       "66444335464     1\n",
       "65664151151     1\n",
       "64644106611     1\n",
       "63641014640     1\n",
       "61131141114     1\n",
       "Name: phoneNumber, Length: 726, dtype: int64"
      ]
     },
     "execution_count": 10,
     "metadata": {},
     "output_type": "execute_result"
    }
   ],
   "source": [
    "df['phoneNumber'].value_counts()"
   ]
  },
  {
   "cell_type": "code",
   "execution_count": 11,
   "metadata": {},
   "outputs": [
    {
     "data": {
      "text/plain": [
       "798"
      ]
     },
     "execution_count": 11,
     "metadata": {},
     "output_type": "execute_result"
    }
   ],
   "source": [
    "len(df)"
   ]
  },
  {
   "cell_type": "code",
   "execution_count": 12,
   "metadata": {},
   "outputs": [
    {
     "data": {
      "text/plain": [
       "'[{\"EventType\":\"Ported\",\"LastChangedDate\":\"2011-05-05T16:26:10Z\"},{\"EventType\":\"DeviceChange\",\"LastChangedDate\":\"2020-02-12T23:59:59Z\"},{\"EventType\":\"SIMSwap\",\"LastChangedDate\":\"2020-01-13T23:59:59Z\"}]'"
      ]
     },
     "execution_count": 12,
     "metadata": {},
     "output_type": "execute_result"
    }
   ],
   "source": [
    "df['Events'][0]"
   ]
  },
  {
   "cell_type": "code",
   "execution_count": 13,
   "metadata": {},
   "outputs": [
    {
     "data": {
      "text/plain": [
       "'[{\"EventType\":\"MSISDNChange\",\"LastChangedDate\":\"2016-07-21T22:36:00Z\"},{\"EventType\":\"Ported\",\"LastChangedDate\":\"2016-11-21T23:57:06Z\"},{\"EventType\":\"DeviceChange\",\"LastChangedDate\":\"2020-02-11T23:59:59Z\"},{\"EventType\":\"SIMSwap\",\"LastChangedDate\":\"2016-11-21T23:57:06Z\"}]'"
      ]
     },
     "execution_count": 13,
     "metadata": {},
     "output_type": "execute_result"
    }
   ],
   "source": [
    "df['Events'][5]"
   ]
  },
  {
   "cell_type": "code",
   "execution_count": 14,
   "metadata": {},
   "outputs": [
    {
     "data": {
      "text/plain": [
       "0       [{\"EventType\":\"Ported\",\"LastChangedDate\":\"2011...\n",
       "1       [{\"EventType\":\"Ported\",\"LastChangedDate\":\"2016...\n",
       "2       [{\"EventType\":\"Ported\",\"LastChangedDate\":\"2019...\n",
       "3       [{\"EventType\":\"DeviceChange\",\"LastChangedDate\"...\n",
       "5       [{\"EventType\":\"MSISDNChange\",\"LastChangedDate\"...\n",
       "                              ...                        \n",
       "1068    [{\"EventType\":\"Ported\",\"LastChangedDate\":\"2017...\n",
       "1069    [{\"EventType\":\"DeviceChange\",\"LastChangedDate\"...\n",
       "1070    [{\"EventType\":\"Ported\",\"LastChangedDate\":\"2005...\n",
       "1071    [{\"EventType\":\"Ported\",\"LastChangedDate\":\"2015...\n",
       "1072    [{\"EventType\":\"Ported\",\"LastChangedDate\":\"2013...\n",
       "Name: Events, Length: 798, dtype: object"
      ]
     },
     "execution_count": 14,
     "metadata": {},
     "output_type": "execute_result"
    }
   ],
   "source": [
    "df['Events']"
   ]
  },
  {
   "cell_type": "code",
   "execution_count": 15,
   "metadata": {},
   "outputs": [],
   "source": [
    "test = df['Events'][0]"
   ]
  },
  {
   "cell_type": "code",
   "execution_count": 16,
   "metadata": {},
   "outputs": [
    {
     "data": {
      "text/plain": [
       "'[{\"EventType\":\"Ported\",\"LastChangedDate\":\"2011-05-05T16:26:10Z\"},{\"EventType\":\"DeviceChange\",\"LastChangedDate\":\"2020-02-12T23:59:59Z\"},{\"EventType\":\"SIMSwap\",\"LastChangedDate\":\"2020-01-13T23:59:59Z\"}]'"
      ]
     },
     "execution_count": 16,
     "metadata": {},
     "output_type": "execute_result"
    }
   ],
   "source": [
    "test"
   ]
  },
  {
   "cell_type": "code",
   "execution_count": 17,
   "metadata": {},
   "outputs": [
    {
     "data": {
      "text/plain": [
       "[{'EventType': 'Ported', 'LastChangedDate': '2011-05-05T16:26:10Z'},\n",
       " {'EventType': 'DeviceChange', 'LastChangedDate': '2020-02-12T23:59:59Z'},\n",
       " {'EventType': 'SIMSwap', 'LastChangedDate': '2020-01-13T23:59:59Z'}]"
      ]
     },
     "execution_count": 17,
     "metadata": {},
     "output_type": "execute_result"
    }
   ],
   "source": [
    "converted = ast.literal_eval(test)\n",
    "converted"
   ]
  },
  {
   "cell_type": "code",
   "execution_count": 18,
   "metadata": {},
   "outputs": [
    {
     "data": {
      "text/plain": [
       "{'EventType': 'Ported', 'LastChangedDate': '2011-05-05T16:26:10Z'}"
      ]
     },
     "execution_count": 18,
     "metadata": {},
     "output_type": "execute_result"
    }
   ],
   "source": [
    "ast.literal_eval(test)[0]"
   ]
  },
  {
   "cell_type": "code",
   "execution_count": 19,
   "metadata": {},
   "outputs": [
    {
     "data": {
      "text/plain": [
       "{'EventType': 'Ported', 'LastChangedDate': '2011-05-05T16:26:10Z'}"
      ]
     },
     "execution_count": 19,
     "metadata": {},
     "output_type": "execute_result"
    }
   ],
   "source": [
    "converted[0]"
   ]
  },
  {
   "cell_type": "code",
   "execution_count": 20,
   "metadata": {},
   "outputs": [
    {
     "data": {
      "text/plain": [
       "[[{'EventType': 'Ported', 'LastChangedDate': '2011-05-05T16:26:10Z'},\n",
       "  {'EventType': 'DeviceChange', 'LastChangedDate': '2020-02-12T23:59:59Z'},\n",
       "  {'EventType': 'SIMSwap', 'LastChangedDate': '2020-01-13T23:59:59Z'}]]"
      ]
     },
     "execution_count": 20,
     "metadata": {},
     "output_type": "execute_result"
    }
   ],
   "source": [
    "empty_list = []\n",
    "empty_list.append(converted)\n",
    "empty_list"
   ]
  },
  {
   "cell_type": "markdown",
   "metadata": {},
   "source": [
    "#### Converting Events column to a List of Lists of Dictionaries"
   ]
  },
  {
   "cell_type": "code",
   "execution_count": 21,
   "metadata": {},
   "outputs": [
    {
     "data": {
      "text/plain": [
       "0       [{\"EventType\":\"Ported\",\"LastChangedDate\":\"2011...\n",
       "1       [{\"EventType\":\"Ported\",\"LastChangedDate\":\"2016...\n",
       "2       [{\"EventType\":\"Ported\",\"LastChangedDate\":\"2019...\n",
       "3       [{\"EventType\":\"DeviceChange\",\"LastChangedDate\"...\n",
       "5       [{\"EventType\":\"MSISDNChange\",\"LastChangedDate\"...\n",
       "                              ...                        \n",
       "1068    [{\"EventType\":\"Ported\",\"LastChangedDate\":\"2017...\n",
       "1069    [{\"EventType\":\"DeviceChange\",\"LastChangedDate\"...\n",
       "1070    [{\"EventType\":\"Ported\",\"LastChangedDate\":\"2005...\n",
       "1071    [{\"EventType\":\"Ported\",\"LastChangedDate\":\"2015...\n",
       "1072    [{\"EventType\":\"Ported\",\"LastChangedDate\":\"2013...\n",
       "Name: Events, Length: 798, dtype: object"
      ]
     },
     "execution_count": 21,
     "metadata": {},
     "output_type": "execute_result"
    }
   ],
   "source": [
    "events = df['Events']\n",
    "events"
   ]
  },
  {
   "cell_type": "code",
   "execution_count": 22,
   "metadata": {},
   "outputs": [],
   "source": [
    "converted_events = []\n",
    "\n",
    "def convert_events(events):\n",
    "    for event in events:\n",
    "        c = ast.literal_eval(event)\n",
    "        converted_events.append(c)\n",
    "        \n",
    "convert_events(events)"
   ]
  },
  {
   "cell_type": "code",
   "execution_count": 23,
   "metadata": {},
   "outputs": [
    {
     "data": {
      "text/plain": [
       "[[{'EventType': 'Ported', 'LastChangedDate': '2011-05-05T16:26:10Z'},\n",
       "  {'EventType': 'DeviceChange', 'LastChangedDate': '2020-02-12T23:59:59Z'},\n",
       "  {'EventType': 'SIMSwap', 'LastChangedDate': '2020-01-13T23:59:59Z'}],\n",
       " [{'EventType': 'Ported', 'LastChangedDate': '2016-11-02T22:31:03Z'},\n",
       "  {'EventType': 'DeviceChange', 'LastChangedDate': '2021-03-26T23:59:59Z'},\n",
       "  {'EventType': 'SIMSwap', 'LastChangedDate': '2021-03-26T23:59:59Z'}],\n",
       " [{'EventType': 'Ported', 'LastChangedDate': '2019-10-18T15:36:15Z'},\n",
       "  {'EventType': 'DeviceChange', 'LastChangedDate': '2020-04-25T23:59:59Z'},\n",
       "  {'EventType': 'SIMSwap', 'LastChangedDate': '2020-04-25T23:59:59Z'}],\n",
       " [{'EventType': 'DeviceChange', 'LastChangedDate': '2020-05-10T23:59:59Z'},\n",
       "  {'EventType': 'SIMSwap', 'LastChangedDate': '2020-05-10T23:59:59Z'}],\n",
       " [{'EventType': 'MSISDNChange', 'LastChangedDate': '2016-07-21T22:36:00Z'},\n",
       "  {'EventType': 'Ported', 'LastChangedDate': '2016-11-21T23:57:06Z'},\n",
       "  {'EventType': 'DeviceChange', 'LastChangedDate': '2020-02-11T23:59:59Z'},\n",
       "  {'EventType': 'SIMSwap', 'LastChangedDate': '2016-11-21T23:57:06Z'}]]"
      ]
     },
     "execution_count": 23,
     "metadata": {},
     "output_type": "execute_result"
    }
   ],
   "source": [
    "converted_events[:5]"
   ]
  },
  {
   "cell_type": "code",
   "execution_count": 24,
   "metadata": {},
   "outputs": [
    {
     "data": {
      "text/plain": [
       "{'EventType': 'Ported', 'LastChangedDate': '2011-05-05T16:26:10Z'}"
      ]
     },
     "execution_count": 24,
     "metadata": {},
     "output_type": "execute_result"
    }
   ],
   "source": [
    "converted_events[0][0]"
   ]
  },
  {
   "cell_type": "code",
   "execution_count": 25,
   "metadata": {},
   "outputs": [
    {
     "data": {
      "text/plain": [
       "[{'EventType': 'Ported', 'LastChangedDate': '2011-05-05T16:26:10Z'},\n",
       " {'EventType': 'DeviceChange', 'LastChangedDate': '2020-02-12T23:59:59Z'},\n",
       " {'EventType': 'SIMSwap', 'LastChangedDate': '2020-01-13T23:59:59Z'}]"
      ]
     },
     "execution_count": 25,
     "metadata": {},
     "output_type": "execute_result"
    }
   ],
   "source": [
    "converted_events[0]"
   ]
  },
  {
   "cell_type": "code",
   "execution_count": 26,
   "metadata": {},
   "outputs": [
    {
     "data": {
      "text/plain": [
       "3"
      ]
     },
     "execution_count": 26,
     "metadata": {},
     "output_type": "execute_result"
    }
   ],
   "source": [
    "len(converted_events[0])"
   ]
  },
  {
   "cell_type": "code",
   "execution_count": 27,
   "metadata": {},
   "outputs": [
    {
     "data": {
      "text/plain": [
       "'Ported'"
      ]
     },
     "execution_count": 27,
     "metadata": {},
     "output_type": "execute_result"
    }
   ],
   "source": [
    "converted_events[0][0]['EventType']"
   ]
  },
  {
   "cell_type": "code",
   "execution_count": 28,
   "metadata": {},
   "outputs": [
    {
     "data": {
      "text/plain": [
       "False"
      ]
     },
     "execution_count": 28,
     "metadata": {},
     "output_type": "execute_result"
    }
   ],
   "source": [
    "converted_events[0][0]['EventType'] == 'SIMSwap'"
   ]
  },
  {
   "cell_type": "code",
   "execution_count": 29,
   "metadata": {},
   "outputs": [
    {
     "data": {
      "text/plain": [
       "798"
      ]
     },
     "execution_count": 29,
     "metadata": {},
     "output_type": "execute_result"
    }
   ],
   "source": [
    "len(converted_events)"
   ]
  },
  {
   "cell_type": "markdown",
   "metadata": {},
   "source": [
    "### How many distinct phone numbers had at least 2 sim swap event changes in this data?"
   ]
  },
  {
   "cell_type": "markdown",
   "metadata": {},
   "source": [
    "**39 distinct phone numbers had at least 2 sim swap events**"
   ]
  },
  {
   "cell_type": "code",
   "execution_count": 30,
   "metadata": {},
   "outputs": [
    {
     "name": "stdout",
     "output_type": "stream",
     "text": [
      "[1, 1, 1, 1, 1, 1, 1, 1, 0, 1]\n"
     ]
    },
    {
     "data": {
      "text/plain": [
       "798"
      ]
     },
     "execution_count": 30,
     "metadata": {},
     "output_type": "execute_result"
    }
   ],
   "source": [
    "sim_count = []\n",
    "\n",
    "def sim_counter(dicts):\n",
    "    for events in dicts:\n",
    "        sims = 0\n",
    "        for event in events:\n",
    "            if event['EventType'] == 'SIMSwap':\n",
    "                sims += 1\n",
    "        sim_count.append(sims)\n",
    "        \n",
    "sim_counter(converted_events)\n",
    "\n",
    "print(sim_count[:10])\n",
    "       \n",
    "len(sim_count)"
   ]
  },
  {
   "cell_type": "code",
   "execution_count": 31,
   "metadata": {},
   "outputs": [
    {
     "data": {
      "text/html": [
       "<div>\n",
       "<style scoped>\n",
       "    .dataframe tbody tr th:only-of-type {\n",
       "        vertical-align: middle;\n",
       "    }\n",
       "\n",
       "    .dataframe tbody tr th {\n",
       "        vertical-align: top;\n",
       "    }\n",
       "\n",
       "    .dataframe thead th {\n",
       "        text-align: right;\n",
       "    }\n",
       "</style>\n",
       "<table border=\"1\" class=\"dataframe\">\n",
       "  <thead>\n",
       "    <tr style=\"text-align: right;\">\n",
       "      <th></th>\n",
       "      <th>Events</th>\n",
       "      <th>phoneNumber</th>\n",
       "      <th>SimCount</th>\n",
       "    </tr>\n",
       "  </thead>\n",
       "  <tbody>\n",
       "    <tr>\n",
       "      <th>0</th>\n",
       "      <td>[{\"EventType\":\"Ported\",\"LastChangedDate\":\"2011...</td>\n",
       "      <td>61011011141</td>\n",
       "      <td>1</td>\n",
       "    </tr>\n",
       "    <tr>\n",
       "      <th>1</th>\n",
       "      <td>[{\"EventType\":\"Ported\",\"LastChangedDate\":\"2016...</td>\n",
       "      <td>61011051114</td>\n",
       "      <td>1</td>\n",
       "    </tr>\n",
       "    <tr>\n",
       "      <th>2</th>\n",
       "      <td>[{\"EventType\":\"Ported\",\"LastChangedDate\":\"2019...</td>\n",
       "      <td>61011051561</td>\n",
       "      <td>1</td>\n",
       "    </tr>\n",
       "    <tr>\n",
       "      <th>3</th>\n",
       "      <td>[{\"EventType\":\"DeviceChange\",\"LastChangedDate\"...</td>\n",
       "      <td>61011106044</td>\n",
       "      <td>1</td>\n",
       "    </tr>\n",
       "    <tr>\n",
       "      <th>5</th>\n",
       "      <td>[{\"EventType\":\"MSISDNChange\",\"LastChangedDate\"...</td>\n",
       "      <td>61011111104</td>\n",
       "      <td>1</td>\n",
       "    </tr>\n",
       "    <tr>\n",
       "      <th>...</th>\n",
       "      <td>...</td>\n",
       "      <td>...</td>\n",
       "      <td>...</td>\n",
       "    </tr>\n",
       "    <tr>\n",
       "      <th>1068</th>\n",
       "      <td>[{\"EventType\":\"Ported\",\"LastChangedDate\":\"2017...</td>\n",
       "      <td>66651115140</td>\n",
       "      <td>1</td>\n",
       "    </tr>\n",
       "    <tr>\n",
       "      <th>1069</th>\n",
       "      <td>[{\"EventType\":\"DeviceChange\",\"LastChangedDate\"...</td>\n",
       "      <td>66654116135</td>\n",
       "      <td>1</td>\n",
       "    </tr>\n",
       "    <tr>\n",
       "      <th>1070</th>\n",
       "      <td>[{\"EventType\":\"Ported\",\"LastChangedDate\":\"2005...</td>\n",
       "      <td>66661166066</td>\n",
       "      <td>1</td>\n",
       "    </tr>\n",
       "    <tr>\n",
       "      <th>1071</th>\n",
       "      <td>[{\"EventType\":\"Ported\",\"LastChangedDate\":\"2015...</td>\n",
       "      <td>66664441444</td>\n",
       "      <td>0</td>\n",
       "    </tr>\n",
       "    <tr>\n",
       "      <th>1072</th>\n",
       "      <td>[{\"EventType\":\"Ported\",\"LastChangedDate\":\"2013...</td>\n",
       "      <td>66666165155</td>\n",
       "      <td>1</td>\n",
       "    </tr>\n",
       "  </tbody>\n",
       "</table>\n",
       "<p>798 rows × 3 columns</p>\n",
       "</div>"
      ],
      "text/plain": [
       "                                                 Events  phoneNumber  SimCount\n",
       "0     [{\"EventType\":\"Ported\",\"LastChangedDate\":\"2011...  61011011141         1\n",
       "1     [{\"EventType\":\"Ported\",\"LastChangedDate\":\"2016...  61011051114         1\n",
       "2     [{\"EventType\":\"Ported\",\"LastChangedDate\":\"2019...  61011051561         1\n",
       "3     [{\"EventType\":\"DeviceChange\",\"LastChangedDate\"...  61011106044         1\n",
       "5     [{\"EventType\":\"MSISDNChange\",\"LastChangedDate\"...  61011111104         1\n",
       "...                                                 ...          ...       ...\n",
       "1068  [{\"EventType\":\"Ported\",\"LastChangedDate\":\"2017...  66651115140         1\n",
       "1069  [{\"EventType\":\"DeviceChange\",\"LastChangedDate\"...  66654116135         1\n",
       "1070  [{\"EventType\":\"Ported\",\"LastChangedDate\":\"2005...  66661166066         1\n",
       "1071  [{\"EventType\":\"Ported\",\"LastChangedDate\":\"2015...  66664441444         0\n",
       "1072  [{\"EventType\":\"Ported\",\"LastChangedDate\":\"2013...  66666165155         1\n",
       "\n",
       "[798 rows x 3 columns]"
      ]
     },
     "execution_count": 31,
     "metadata": {},
     "output_type": "execute_result"
    }
   ],
   "source": [
    "df['SimCount'] = sim_count\n",
    "df"
   ]
  },
  {
   "cell_type": "code",
   "execution_count": 32,
   "metadata": {},
   "outputs": [
    {
     "data": {
      "text/html": [
       "<div>\n",
       "<style scoped>\n",
       "    .dataframe tbody tr th:only-of-type {\n",
       "        vertical-align: middle;\n",
       "    }\n",
       "\n",
       "    .dataframe tbody tr th {\n",
       "        vertical-align: top;\n",
       "    }\n",
       "\n",
       "    .dataframe thead th {\n",
       "        text-align: right;\n",
       "    }\n",
       "</style>\n",
       "<table border=\"1\" class=\"dataframe\">\n",
       "  <thead>\n",
       "    <tr style=\"text-align: right;\">\n",
       "      <th></th>\n",
       "      <th>SimCount</th>\n",
       "    </tr>\n",
       "    <tr>\n",
       "      <th>phoneNumber</th>\n",
       "      <th></th>\n",
       "    </tr>\n",
       "  </thead>\n",
       "  <tbody>\n",
       "    <tr>\n",
       "      <th>61011011141</th>\n",
       "      <td>1</td>\n",
       "    </tr>\n",
       "    <tr>\n",
       "      <th>61011051114</th>\n",
       "      <td>1</td>\n",
       "    </tr>\n",
       "    <tr>\n",
       "      <th>61011051561</th>\n",
       "      <td>1</td>\n",
       "    </tr>\n",
       "    <tr>\n",
       "      <th>61011106044</th>\n",
       "      <td>1</td>\n",
       "    </tr>\n",
       "    <tr>\n",
       "      <th>61011111104</th>\n",
       "      <td>1</td>\n",
       "    </tr>\n",
       "    <tr>\n",
       "      <th>...</th>\n",
       "      <td>...</td>\n",
       "    </tr>\n",
       "    <tr>\n",
       "      <th>66651115140</th>\n",
       "      <td>1</td>\n",
       "    </tr>\n",
       "    <tr>\n",
       "      <th>66654116135</th>\n",
       "      <td>1</td>\n",
       "    </tr>\n",
       "    <tr>\n",
       "      <th>66661166066</th>\n",
       "      <td>1</td>\n",
       "    </tr>\n",
       "    <tr>\n",
       "      <th>66664441444</th>\n",
       "      <td>0</td>\n",
       "    </tr>\n",
       "    <tr>\n",
       "      <th>66666165155</th>\n",
       "      <td>1</td>\n",
       "    </tr>\n",
       "  </tbody>\n",
       "</table>\n",
       "<p>726 rows × 1 columns</p>\n",
       "</div>"
      ],
      "text/plain": [
       "             SimCount\n",
       "phoneNumber          \n",
       "61011011141         1\n",
       "61011051114         1\n",
       "61011051561         1\n",
       "61011106044         1\n",
       "61011111104         1\n",
       "...               ...\n",
       "66651115140         1\n",
       "66654116135         1\n",
       "66661166066         1\n",
       "66664441444         0\n",
       "66666165155         1\n",
       "\n",
       "[726 rows x 1 columns]"
      ]
     },
     "execution_count": 32,
     "metadata": {},
     "output_type": "execute_result"
    }
   ],
   "source": [
    "df_sc = df.groupby('phoneNumber').sum()\n",
    "df_sc"
   ]
  },
  {
   "cell_type": "code",
   "execution_count": 33,
   "metadata": {},
   "outputs": [
    {
     "data": {
      "text/html": [
       "<div>\n",
       "<style scoped>\n",
       "    .dataframe tbody tr th:only-of-type {\n",
       "        vertical-align: middle;\n",
       "    }\n",
       "\n",
       "    .dataframe tbody tr th {\n",
       "        vertical-align: top;\n",
       "    }\n",
       "\n",
       "    .dataframe thead th {\n",
       "        text-align: right;\n",
       "    }\n",
       "</style>\n",
       "<table border=\"1\" class=\"dataframe\">\n",
       "  <thead>\n",
       "    <tr style=\"text-align: right;\">\n",
       "      <th></th>\n",
       "      <th>SimCount</th>\n",
       "    </tr>\n",
       "    <tr>\n",
       "      <th>phoneNumber</th>\n",
       "      <th></th>\n",
       "    </tr>\n",
       "  </thead>\n",
       "  <tbody>\n",
       "    <tr>\n",
       "      <th>61041056636</th>\n",
       "      <td>2</td>\n",
       "    </tr>\n",
       "    <tr>\n",
       "      <th>61043414351</th>\n",
       "      <td>5</td>\n",
       "    </tr>\n",
       "    <tr>\n",
       "      <th>61061631054</th>\n",
       "      <td>2</td>\n",
       "    </tr>\n",
       "    <tr>\n",
       "      <th>61113011051</th>\n",
       "      <td>3</td>\n",
       "    </tr>\n",
       "    <tr>\n",
       "      <th>61114415616</th>\n",
       "      <td>2</td>\n",
       "    </tr>\n",
       "    <tr>\n",
       "      <th>61144101161</th>\n",
       "      <td>2</td>\n",
       "    </tr>\n",
       "    <tr>\n",
       "      <th>61145014116</th>\n",
       "      <td>2</td>\n",
       "    </tr>\n",
       "    <tr>\n",
       "      <th>61151106546</th>\n",
       "      <td>11</td>\n",
       "    </tr>\n",
       "    <tr>\n",
       "      <th>61411451066</th>\n",
       "      <td>2</td>\n",
       "    </tr>\n",
       "    <tr>\n",
       "      <th>61505460516</th>\n",
       "      <td>3</td>\n",
       "    </tr>\n",
       "    <tr>\n",
       "      <th>61511065644</th>\n",
       "      <td>2</td>\n",
       "    </tr>\n",
       "    <tr>\n",
       "      <th>61604414331</th>\n",
       "      <td>2</td>\n",
       "    </tr>\n",
       "    <tr>\n",
       "      <th>61613646161</th>\n",
       "      <td>2</td>\n",
       "    </tr>\n",
       "    <tr>\n",
       "      <th>63013013016</th>\n",
       "      <td>2</td>\n",
       "    </tr>\n",
       "    <tr>\n",
       "      <th>63031464416</th>\n",
       "      <td>3</td>\n",
       "    </tr>\n",
       "    <tr>\n",
       "      <th>63151136111</th>\n",
       "      <td>2</td>\n",
       "    </tr>\n",
       "    <tr>\n",
       "      <th>63164513105</th>\n",
       "      <td>3</td>\n",
       "    </tr>\n",
       "    <tr>\n",
       "      <th>63314554061</th>\n",
       "      <td>2</td>\n",
       "    </tr>\n",
       "    <tr>\n",
       "      <th>63401154346</th>\n",
       "      <td>2</td>\n",
       "    </tr>\n",
       "    <tr>\n",
       "      <th>63405641406</th>\n",
       "      <td>5</td>\n",
       "    </tr>\n",
       "    <tr>\n",
       "      <th>63434140561</th>\n",
       "      <td>2</td>\n",
       "    </tr>\n",
       "    <tr>\n",
       "      <th>63611066103</th>\n",
       "      <td>2</td>\n",
       "    </tr>\n",
       "    <tr>\n",
       "      <th>63656015400</th>\n",
       "      <td>2</td>\n",
       "    </tr>\n",
       "    <tr>\n",
       "      <th>63664111651</th>\n",
       "      <td>2</td>\n",
       "    </tr>\n",
       "    <tr>\n",
       "      <th>64011516441</th>\n",
       "      <td>2</td>\n",
       "    </tr>\n",
       "    <tr>\n",
       "      <th>64044401431</th>\n",
       "      <td>2</td>\n",
       "    </tr>\n",
       "    <tr>\n",
       "      <th>64066610014</th>\n",
       "      <td>2</td>\n",
       "    </tr>\n",
       "    <tr>\n",
       "      <th>64161010043</th>\n",
       "      <td>2</td>\n",
       "    </tr>\n",
       "    <tr>\n",
       "      <th>64611351654</th>\n",
       "      <td>2</td>\n",
       "    </tr>\n",
       "    <tr>\n",
       "      <th>64615651341</th>\n",
       "      <td>2</td>\n",
       "    </tr>\n",
       "    <tr>\n",
       "      <th>64631634141</th>\n",
       "      <td>3</td>\n",
       "    </tr>\n",
       "    <tr>\n",
       "      <th>64644116603</th>\n",
       "      <td>2</td>\n",
       "    </tr>\n",
       "    <tr>\n",
       "      <th>64654113111</th>\n",
       "      <td>2</td>\n",
       "    </tr>\n",
       "    <tr>\n",
       "      <th>65065161510</th>\n",
       "      <td>2</td>\n",
       "    </tr>\n",
       "    <tr>\n",
       "      <th>65154465414</th>\n",
       "      <td>2</td>\n",
       "    </tr>\n",
       "    <tr>\n",
       "      <th>65465556014</th>\n",
       "      <td>3</td>\n",
       "    </tr>\n",
       "    <tr>\n",
       "      <th>65601161110</th>\n",
       "      <td>2</td>\n",
       "    </tr>\n",
       "    <tr>\n",
       "      <th>65651331163</th>\n",
       "      <td>2</td>\n",
       "    </tr>\n",
       "    <tr>\n",
       "      <th>66443011434</th>\n",
       "      <td>2</td>\n",
       "    </tr>\n",
       "  </tbody>\n",
       "</table>\n",
       "</div>"
      ],
      "text/plain": [
       "             SimCount\n",
       "phoneNumber          \n",
       "61041056636         2\n",
       "61043414351         5\n",
       "61061631054         2\n",
       "61113011051         3\n",
       "61114415616         2\n",
       "61144101161         2\n",
       "61145014116         2\n",
       "61151106546        11\n",
       "61411451066         2\n",
       "61505460516         3\n",
       "61511065644         2\n",
       "61604414331         2\n",
       "61613646161         2\n",
       "63013013016         2\n",
       "63031464416         3\n",
       "63151136111         2\n",
       "63164513105         3\n",
       "63314554061         2\n",
       "63401154346         2\n",
       "63405641406         5\n",
       "63434140561         2\n",
       "63611066103         2\n",
       "63656015400         2\n",
       "63664111651         2\n",
       "64011516441         2\n",
       "64044401431         2\n",
       "64066610014         2\n",
       "64161010043         2\n",
       "64611351654         2\n",
       "64615651341         2\n",
       "64631634141         3\n",
       "64644116603         2\n",
       "64654113111         2\n",
       "65065161510         2\n",
       "65154465414         2\n",
       "65465556014         3\n",
       "65601161110         2\n",
       "65651331163         2\n",
       "66443011434         2"
      ]
     },
     "execution_count": 33,
     "metadata": {},
     "output_type": "execute_result"
    }
   ],
   "source": [
    "df_sc[df_sc['SimCount'] >= 2]"
   ]
  },
  {
   "cell_type": "code",
   "execution_count": 34,
   "metadata": {},
   "outputs": [
    {
     "data": {
      "text/plain": [
       "39"
      ]
     },
     "execution_count": 34,
     "metadata": {},
     "output_type": "execute_result"
    }
   ],
   "source": [
    "len(df_sc[df_sc['SimCount'] >= 2])"
   ]
  },
  {
   "cell_type": "markdown",
   "metadata": {},
   "source": [
    "### How many records had at least 3 change events?"
   ]
  },
  {
   "cell_type": "markdown",
   "metadata": {},
   "source": [
    "**322 records had at least 3 change events**"
   ]
  },
  {
   "cell_type": "code",
   "execution_count": 35,
   "metadata": {},
   "outputs": [
    {
     "data": {
      "text/plain": [
       "[[{'EventType': 'Ported', 'LastChangedDate': '2011-05-05T16:26:10Z'},\n",
       "  {'EventType': 'DeviceChange', 'LastChangedDate': '2020-02-12T23:59:59Z'},\n",
       "  {'EventType': 'SIMSwap', 'LastChangedDate': '2020-01-13T23:59:59Z'}],\n",
       " [{'EventType': 'Ported', 'LastChangedDate': '2016-11-02T22:31:03Z'},\n",
       "  {'EventType': 'DeviceChange', 'LastChangedDate': '2021-03-26T23:59:59Z'},\n",
       "  {'EventType': 'SIMSwap', 'LastChangedDate': '2021-03-26T23:59:59Z'}],\n",
       " [{'EventType': 'Ported', 'LastChangedDate': '2019-10-18T15:36:15Z'},\n",
       "  {'EventType': 'DeviceChange', 'LastChangedDate': '2020-04-25T23:59:59Z'},\n",
       "  {'EventType': 'SIMSwap', 'LastChangedDate': '2020-04-25T23:59:59Z'}],\n",
       " [{'EventType': 'DeviceChange', 'LastChangedDate': '2020-05-10T23:59:59Z'},\n",
       "  {'EventType': 'SIMSwap', 'LastChangedDate': '2020-05-10T23:59:59Z'}],\n",
       " [{'EventType': 'MSISDNChange', 'LastChangedDate': '2016-07-21T22:36:00Z'},\n",
       "  {'EventType': 'Ported', 'LastChangedDate': '2016-11-21T23:57:06Z'},\n",
       "  {'EventType': 'DeviceChange', 'LastChangedDate': '2020-02-11T23:59:59Z'},\n",
       "  {'EventType': 'SIMSwap', 'LastChangedDate': '2016-11-21T23:57:06Z'}]]"
      ]
     },
     "execution_count": 35,
     "metadata": {},
     "output_type": "execute_result"
    }
   ],
   "source": [
    "converted_events[:5]"
   ]
  },
  {
   "cell_type": "code",
   "execution_count": 36,
   "metadata": {},
   "outputs": [
    {
     "data": {
      "text/plain": [
       "[3, 3, 3, 2, 4, 3, 3, 3, 1, 2, 1, 3, 3, 1, 2]"
      ]
     },
     "execution_count": 36,
     "metadata": {},
     "output_type": "execute_result"
    }
   ],
   "source": [
    "event_count = []\n",
    "\n",
    "def event_counter(events):\n",
    "    for event in converted_events:\n",
    "        l = len(event)\n",
    "        event_count.append(l)\n",
    "        \n",
    "event_counter(converted_events)\n",
    "        \n",
    "event_count[:15]"
   ]
  },
  {
   "cell_type": "code",
   "execution_count": 37,
   "metadata": {},
   "outputs": [
    {
     "data": {
      "text/html": [
       "<div>\n",
       "<style scoped>\n",
       "    .dataframe tbody tr th:only-of-type {\n",
       "        vertical-align: middle;\n",
       "    }\n",
       "\n",
       "    .dataframe tbody tr th {\n",
       "        vertical-align: top;\n",
       "    }\n",
       "\n",
       "    .dataframe thead th {\n",
       "        text-align: right;\n",
       "    }\n",
       "</style>\n",
       "<table border=\"1\" class=\"dataframe\">\n",
       "  <thead>\n",
       "    <tr style=\"text-align: right;\">\n",
       "      <th></th>\n",
       "      <th>Events</th>\n",
       "      <th>phoneNumber</th>\n",
       "      <th>SimCount</th>\n",
       "      <th>EventCount</th>\n",
       "    </tr>\n",
       "  </thead>\n",
       "  <tbody>\n",
       "    <tr>\n",
       "      <th>0</th>\n",
       "      <td>[{\"EventType\":\"Ported\",\"LastChangedDate\":\"2011...</td>\n",
       "      <td>61011011141</td>\n",
       "      <td>1</td>\n",
       "      <td>3</td>\n",
       "    </tr>\n",
       "    <tr>\n",
       "      <th>1</th>\n",
       "      <td>[{\"EventType\":\"Ported\",\"LastChangedDate\":\"2016...</td>\n",
       "      <td>61011051114</td>\n",
       "      <td>1</td>\n",
       "      <td>3</td>\n",
       "    </tr>\n",
       "    <tr>\n",
       "      <th>2</th>\n",
       "      <td>[{\"EventType\":\"Ported\",\"LastChangedDate\":\"2019...</td>\n",
       "      <td>61011051561</td>\n",
       "      <td>1</td>\n",
       "      <td>3</td>\n",
       "    </tr>\n",
       "    <tr>\n",
       "      <th>3</th>\n",
       "      <td>[{\"EventType\":\"DeviceChange\",\"LastChangedDate\"...</td>\n",
       "      <td>61011106044</td>\n",
       "      <td>1</td>\n",
       "      <td>2</td>\n",
       "    </tr>\n",
       "    <tr>\n",
       "      <th>5</th>\n",
       "      <td>[{\"EventType\":\"MSISDNChange\",\"LastChangedDate\"...</td>\n",
       "      <td>61011111104</td>\n",
       "      <td>1</td>\n",
       "      <td>4</td>\n",
       "    </tr>\n",
       "    <tr>\n",
       "      <th>...</th>\n",
       "      <td>...</td>\n",
       "      <td>...</td>\n",
       "      <td>...</td>\n",
       "      <td>...</td>\n",
       "    </tr>\n",
       "    <tr>\n",
       "      <th>1068</th>\n",
       "      <td>[{\"EventType\":\"Ported\",\"LastChangedDate\":\"2017...</td>\n",
       "      <td>66651115140</td>\n",
       "      <td>1</td>\n",
       "      <td>3</td>\n",
       "    </tr>\n",
       "    <tr>\n",
       "      <th>1069</th>\n",
       "      <td>[{\"EventType\":\"DeviceChange\",\"LastChangedDate\"...</td>\n",
       "      <td>66654116135</td>\n",
       "      <td>1</td>\n",
       "      <td>2</td>\n",
       "    </tr>\n",
       "    <tr>\n",
       "      <th>1070</th>\n",
       "      <td>[{\"EventType\":\"Ported\",\"LastChangedDate\":\"2005...</td>\n",
       "      <td>66661166066</td>\n",
       "      <td>1</td>\n",
       "      <td>3</td>\n",
       "    </tr>\n",
       "    <tr>\n",
       "      <th>1071</th>\n",
       "      <td>[{\"EventType\":\"Ported\",\"LastChangedDate\":\"2015...</td>\n",
       "      <td>66664441444</td>\n",
       "      <td>0</td>\n",
       "      <td>1</td>\n",
       "    </tr>\n",
       "    <tr>\n",
       "      <th>1072</th>\n",
       "      <td>[{\"EventType\":\"Ported\",\"LastChangedDate\":\"2013...</td>\n",
       "      <td>66666165155</td>\n",
       "      <td>1</td>\n",
       "      <td>3</td>\n",
       "    </tr>\n",
       "  </tbody>\n",
       "</table>\n",
       "<p>798 rows × 4 columns</p>\n",
       "</div>"
      ],
      "text/plain": [
       "                                                 Events  phoneNumber  \\\n",
       "0     [{\"EventType\":\"Ported\",\"LastChangedDate\":\"2011...  61011011141   \n",
       "1     [{\"EventType\":\"Ported\",\"LastChangedDate\":\"2016...  61011051114   \n",
       "2     [{\"EventType\":\"Ported\",\"LastChangedDate\":\"2019...  61011051561   \n",
       "3     [{\"EventType\":\"DeviceChange\",\"LastChangedDate\"...  61011106044   \n",
       "5     [{\"EventType\":\"MSISDNChange\",\"LastChangedDate\"...  61011111104   \n",
       "...                                                 ...          ...   \n",
       "1068  [{\"EventType\":\"Ported\",\"LastChangedDate\":\"2017...  66651115140   \n",
       "1069  [{\"EventType\":\"DeviceChange\",\"LastChangedDate\"...  66654116135   \n",
       "1070  [{\"EventType\":\"Ported\",\"LastChangedDate\":\"2005...  66661166066   \n",
       "1071  [{\"EventType\":\"Ported\",\"LastChangedDate\":\"2015...  66664441444   \n",
       "1072  [{\"EventType\":\"Ported\",\"LastChangedDate\":\"2013...  66666165155   \n",
       "\n",
       "      SimCount  EventCount  \n",
       "0            1           3  \n",
       "1            1           3  \n",
       "2            1           3  \n",
       "3            1           2  \n",
       "5            1           4  \n",
       "...        ...         ...  \n",
       "1068         1           3  \n",
       "1069         1           2  \n",
       "1070         1           3  \n",
       "1071         0           1  \n",
       "1072         1           3  \n",
       "\n",
       "[798 rows x 4 columns]"
      ]
     },
     "execution_count": 37,
     "metadata": {},
     "output_type": "execute_result"
    }
   ],
   "source": [
    "df['EventCount'] = event_count\n",
    "df"
   ]
  },
  {
   "cell_type": "code",
   "execution_count": 38,
   "metadata": {},
   "outputs": [
    {
     "data": {
      "text/html": [
       "<div>\n",
       "<style scoped>\n",
       "    .dataframe tbody tr th:only-of-type {\n",
       "        vertical-align: middle;\n",
       "    }\n",
       "\n",
       "    .dataframe tbody tr th {\n",
       "        vertical-align: top;\n",
       "    }\n",
       "\n",
       "    .dataframe thead th {\n",
       "        text-align: right;\n",
       "    }\n",
       "</style>\n",
       "<table border=\"1\" class=\"dataframe\">\n",
       "  <thead>\n",
       "    <tr style=\"text-align: right;\">\n",
       "      <th></th>\n",
       "      <th>Events</th>\n",
       "      <th>phoneNumber</th>\n",
       "      <th>SimCount</th>\n",
       "      <th>EventCount</th>\n",
       "    </tr>\n",
       "  </thead>\n",
       "  <tbody>\n",
       "    <tr>\n",
       "      <th>0</th>\n",
       "      <td>[{\"EventType\":\"Ported\",\"LastChangedDate\":\"2011...</td>\n",
       "      <td>61011011141</td>\n",
       "      <td>1</td>\n",
       "      <td>3</td>\n",
       "    </tr>\n",
       "    <tr>\n",
       "      <th>1</th>\n",
       "      <td>[{\"EventType\":\"Ported\",\"LastChangedDate\":\"2016...</td>\n",
       "      <td>61011051114</td>\n",
       "      <td>1</td>\n",
       "      <td>3</td>\n",
       "    </tr>\n",
       "    <tr>\n",
       "      <th>2</th>\n",
       "      <td>[{\"EventType\":\"Ported\",\"LastChangedDate\":\"2019...</td>\n",
       "      <td>61011051561</td>\n",
       "      <td>1</td>\n",
       "      <td>3</td>\n",
       "    </tr>\n",
       "    <tr>\n",
       "      <th>5</th>\n",
       "      <td>[{\"EventType\":\"MSISDNChange\",\"LastChangedDate\"...</td>\n",
       "      <td>61011111104</td>\n",
       "      <td>1</td>\n",
       "      <td>4</td>\n",
       "    </tr>\n",
       "    <tr>\n",
       "      <th>7</th>\n",
       "      <td>[{\"EventType\":\"Ported\",\"LastChangedDate\":\"2016...</td>\n",
       "      <td>61011111401</td>\n",
       "      <td>1</td>\n",
       "      <td>3</td>\n",
       "    </tr>\n",
       "    <tr>\n",
       "      <th>...</th>\n",
       "      <td>...</td>\n",
       "      <td>...</td>\n",
       "      <td>...</td>\n",
       "      <td>...</td>\n",
       "    </tr>\n",
       "    <tr>\n",
       "      <th>1062</th>\n",
       "      <td>[{\"EventType\":\"Ported\",\"LastChangedDate\":\"2015...</td>\n",
       "      <td>66634116664</td>\n",
       "      <td>1</td>\n",
       "      <td>3</td>\n",
       "    </tr>\n",
       "    <tr>\n",
       "      <th>1063</th>\n",
       "      <td>[{\"EventType\":\"Ported\",\"LastChangedDate\":\"2018...</td>\n",
       "      <td>66635044561</td>\n",
       "      <td>1</td>\n",
       "      <td>3</td>\n",
       "    </tr>\n",
       "    <tr>\n",
       "      <th>1068</th>\n",
       "      <td>[{\"EventType\":\"Ported\",\"LastChangedDate\":\"2017...</td>\n",
       "      <td>66651115140</td>\n",
       "      <td>1</td>\n",
       "      <td>3</td>\n",
       "    </tr>\n",
       "    <tr>\n",
       "      <th>1070</th>\n",
       "      <td>[{\"EventType\":\"Ported\",\"LastChangedDate\":\"2005...</td>\n",
       "      <td>66661166066</td>\n",
       "      <td>1</td>\n",
       "      <td>3</td>\n",
       "    </tr>\n",
       "    <tr>\n",
       "      <th>1072</th>\n",
       "      <td>[{\"EventType\":\"Ported\",\"LastChangedDate\":\"2013...</td>\n",
       "      <td>66666165155</td>\n",
       "      <td>1</td>\n",
       "      <td>3</td>\n",
       "    </tr>\n",
       "  </tbody>\n",
       "</table>\n",
       "<p>322 rows × 4 columns</p>\n",
       "</div>"
      ],
      "text/plain": [
       "                                                 Events  phoneNumber  \\\n",
       "0     [{\"EventType\":\"Ported\",\"LastChangedDate\":\"2011...  61011011141   \n",
       "1     [{\"EventType\":\"Ported\",\"LastChangedDate\":\"2016...  61011051114   \n",
       "2     [{\"EventType\":\"Ported\",\"LastChangedDate\":\"2019...  61011051561   \n",
       "5     [{\"EventType\":\"MSISDNChange\",\"LastChangedDate\"...  61011111104   \n",
       "7     [{\"EventType\":\"Ported\",\"LastChangedDate\":\"2016...  61011111401   \n",
       "...                                                 ...          ...   \n",
       "1062  [{\"EventType\":\"Ported\",\"LastChangedDate\":\"2015...  66634116664   \n",
       "1063  [{\"EventType\":\"Ported\",\"LastChangedDate\":\"2018...  66635044561   \n",
       "1068  [{\"EventType\":\"Ported\",\"LastChangedDate\":\"2017...  66651115140   \n",
       "1070  [{\"EventType\":\"Ported\",\"LastChangedDate\":\"2005...  66661166066   \n",
       "1072  [{\"EventType\":\"Ported\",\"LastChangedDate\":\"2013...  66666165155   \n",
       "\n",
       "      SimCount  EventCount  \n",
       "0            1           3  \n",
       "1            1           3  \n",
       "2            1           3  \n",
       "5            1           4  \n",
       "7            1           3  \n",
       "...        ...         ...  \n",
       "1062         1           3  \n",
       "1063         1           3  \n",
       "1068         1           3  \n",
       "1070         1           3  \n",
       "1072         1           3  \n",
       "\n",
       "[322 rows x 4 columns]"
      ]
     },
     "execution_count": 38,
     "metadata": {},
     "output_type": "execute_result"
    }
   ],
   "source": [
    "df[df['EventCount'] >= 3]"
   ]
  },
  {
   "cell_type": "code",
   "execution_count": 39,
   "metadata": {},
   "outputs": [
    {
     "data": {
      "text/plain": [
       "322"
      ]
     },
     "execution_count": 39,
     "metadata": {},
     "output_type": "execute_result"
    }
   ],
   "source": [
    "len(df[df['EventCount'] >= 3])"
   ]
  },
  {
   "cell_type": "markdown",
   "metadata": {},
   "source": [
    "   "
   ]
  },
  {
   "cell_type": "markdown",
   "metadata": {},
   "source": [
    "### Questions about the data"
   ]
  },
  {
   "cell_type": "markdown",
   "metadata": {},
   "source": [
    "* How do we handle the NaNs in the data? What do NaNs mean in this situation? I dropped them above, but this loses a quarter of the data, so it is not an ideal solution.\n",
    "\n",
    "* Should phone numbers be a certain length? If numbers are longer/shorter than a normal number, does that indicate suspicious activity?\n",
    "\n",
    "* Can each EventType be considered a change event? This is the assumption I made to answer the second question.\n",
    "\n",
    "* Did we collect this data ourselves or did a client provide it - asked in the interview -> from client\n",
    "\n",
    "* If collected from a client, can we trust it to be accurate?\n",
    "\n",
    "* What type of insights does the client hope to gain from the data / answers to the questions? Most frequent phone numbers, average event count, fraud, etc?\n",
    "\n",
    "* Should dates have been a factor in counting SimSwap events or number of events per record?\n",
    "\n",
    "* Can there only be one of each Event Type per record?"
   ]
  },
  {
   "cell_type": "markdown",
   "metadata": {},
   "source": [
    "   "
   ]
  },
  {
   "cell_type": "markdown",
   "metadata": {},
   "source": [
    "## Data Question 2"
   ]
  },
  {
   "cell_type": "markdown",
   "metadata": {},
   "source": [
    "* TN = 3000\n",
    "* TP = 75\n",
    "* FN = 25\n",
    "* FP = 1000"
   ]
  },
  {
   "cell_type": "code",
   "execution_count": 40,
   "metadata": {},
   "outputs": [
    {
     "data": {
      "text/plain": [
       "0.024390243902439025"
      ]
     },
     "execution_count": 40,
     "metadata": {},
     "output_type": "execute_result"
    }
   ],
   "source": [
    "100 / 4100"
   ]
  },
  {
   "cell_type": "markdown",
   "metadata": {},
   "source": [
    "#### What does the confusion matrix tell you about the data?\n",
    "\n",
    "* The confusion matrix tells us the data is highly imbalanced. There are 4000 non-fraudulent transactions and only 100 fraudulent transactions. The positive class accounts for only 2.4% of the data, which can make predictions difficult. "
   ]
  },
  {
   "cell_type": "markdown",
   "metadata": {},
   "source": [
    "#### What questions do you have about the problem/data?\n",
    "\n",
    "* Can we somehow collect more samples of fraudulent activity?\n",
    "* Is there a specific metric we should focus on?\n",
    "* Is there a higher cost associated with missing fraudulent activity or with spending resources on investigating falsely identified fraudulent activity?"
   ]
  },
  {
   "cell_type": "markdown",
   "metadata": {},
   "source": [
    "#### Anything you would do differently to measure the model?\n",
    "\n",
    "* We can look at the recall and precision of the model for a different sense of performance\n",
    "    * recall = tp / (tp + fn) = 75 / (75 + 25) = .75\n",
    "    * precision = tp / (tp + fp) = 75 / (75 + 1000) = .07\n",
    "\n",
    "\n",
    "* We can also use the F1 score - combination of precision and recall\n",
    "    * 2 * precision * recall / (precision + recall) = 2 * .07 * .75 / (.75 + .07) = .13\n",
    "\n",
    "\n",
    "If we focus on achieving high precision, we're trying to minimize false positives. False positives, or records falsely indicated as fraud, require investigation and resources. If we focus on recall, we're trying to minimize false negatives so that we don't miss fraudulent activity and the costs that come with them. It would be best to discuss as a team which metric to focus on in advance.\n",
    "\n",
    "We could also look at other metrics like the ROC/AUC or specificity, but should avoid giving too much consideration to accuracy because of the class imbalance."
   ]
  },
  {
   "cell_type": "markdown",
   "metadata": {},
   "source": [
    "#### How could you improve the model?\n",
    "\n",
    "* Resample the positive class so we have more positive instances in the dataset and reduce the class imbalance\n",
    "* When using train_test_split, use stratified sampling to maintain the class proportions\n",
    "* Drop a portion of the negative class so they data is less imbalanced\n",
    "* Combine resampling the positive class and dropping a portion of the negative class\n",
    "* Use grid_search with cross_validation to build a more robust model; this might lead to better recall/precision metrics\n",
    "* Some models allow us to select the class weights; we can try different values to see what leads to an optimal model"
   ]
  },
  {
   "cell_type": "markdown",
   "metadata": {},
   "source": [
    "#### If you have an example/project where the data was imbalanced, send us the link to the code and briefly (<3 paragraphs) describe the project and issues you dealt with and how you resolved them. "
   ]
  },
  {
   "cell_type": "markdown",
   "metadata": {},
   "source": [
    "https://github.com/WickedoneC/Healthcare/blob/main/Druglib%20NLP/Druglib_FullText.ipynb"
   ]
  },
  {
   "cell_type": "markdown",
   "metadata": {},
   "source": [
    "I worked on a personal project predicting whether a drug treatment was effective or not based on patients' comments. The benefits were listed as text, so the data had to be formatted and transformed before modeling. \n",
    "\n",
    "Once the text was formatted and the classes labeled as \"Effective\" and \"Non Effective,\" the data was 86% Effective and 14% Non Effective (cell 48). When modeling, I focused on the F1 score as this combines precision and recall.\n",
    "\n",
    "I used Random Forest and Gradient Boost for classification. The initial models performed well, so instead of tuning using grid search, I manually changed the hyperparameters until I found results that produced the highest F1 score for each model. This saved time in identifying the best model/hyperparameters compared to running grid_search in combination with cross_validation. The resulting models performed well on the training and testing data, as well as on the separate testing data provided. The F1 score for the separate testing data was either similar to or higher than the F1 score for the train_test_split testing data, so the models generalized well to new data without requiring further tuning. Had the models not generalized well to the separate testing data, I could have manually changed the hyperparameters and re-run the affected cells, or used grid_search with cross_validation to find optimal hyperparameters and a model that achieved a high F1 score. "
   ]
  }
 ],
 "metadata": {
  "kernelspec": {
   "display_name": "Python 3",
   "language": "python",
   "name": "python3"
  },
  "language_info": {
   "codemirror_mode": {
    "name": "ipython",
    "version": 3
   },
   "file_extension": ".py",
   "mimetype": "text/x-python",
   "name": "python",
   "nbconvert_exporter": "python",
   "pygments_lexer": "ipython3",
   "version": "3.7.4"
  }
 },
 "nbformat": 4,
 "nbformat_minor": 4
}
